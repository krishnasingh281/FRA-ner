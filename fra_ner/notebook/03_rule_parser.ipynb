{
 "cells": [
  {
   "cell_type": "code",
   "execution_count": 2,
   "id": "f5ae9a85",
   "metadata": {},
   "outputs": [
    {
     "ename": "NameError",
     "evalue": "name 'lines' is not defined",
     "output_type": "error",
     "traceback": [
      "\u001b[1;31m---------------------------------------------------------------------------\u001b[0m",
      "\u001b[1;31mNameError\u001b[0m                                 Traceback (most recent call last)",
      "Cell \u001b[1;32mIn[2], line 13\u001b[0m\n\u001b[0;32m      4\u001b[0m label_map \u001b[38;5;241m=\u001b[39m {\n\u001b[0;32m      5\u001b[0m     \u001b[38;5;124m'\u001b[39m\u001b[38;5;124mCLAIMANT_NAME\u001b[39m\u001b[38;5;124m'\u001b[39m: [\u001b[38;5;124m'\u001b[39m\u001b[38;5;124mName of Claimant\u001b[39m\u001b[38;5;124m'\u001b[39m, \u001b[38;5;124m'\u001b[39m\u001b[38;5;124mClaimant Name\u001b[39m\u001b[38;5;124m'\u001b[39m, \u001b[38;5;124m'\u001b[39m\u001b[38;5;124mName\u001b[39m\u001b[38;5;124m'\u001b[39m],\n\u001b[0;32m      6\u001b[0m     \u001b[38;5;124m'\u001b[39m\u001b[38;5;124mFATHER_NAME\u001b[39m\u001b[38;5;124m'\u001b[39m: [\u001b[38;5;124m'\u001b[39m\u001b[38;5;124mName of Father\u001b[39m\u001b[38;5;124m'\u001b[39m, \u001b[38;5;124m'\u001b[39m\u001b[38;5;124mName of Father/Spouse\u001b[39m\u001b[38;5;124m'\u001b[39m, \u001b[38;5;124m'\u001b[39m\u001b[38;5;124mFather Name\u001b[39m\u001b[38;5;124m'\u001b[39m],\n\u001b[1;32m   (...)\u001b[0m\n\u001b[0;32m      9\u001b[0m     \u001b[38;5;124m'\u001b[39m\u001b[38;5;124mCLAIM_ID\u001b[39m\u001b[38;5;124m'\u001b[39m: [\u001b[38;5;124m'\u001b[39m\u001b[38;5;124mClaim ID\u001b[39m\u001b[38;5;124m'\u001b[39m, \u001b[38;5;124m'\u001b[39m\u001b[38;5;124mClaim No\u001b[39m\u001b[38;5;124m'\u001b[39m, \u001b[38;5;124m'\u001b[39m\u001b[38;5;124mClaim Number\u001b[39m\u001b[38;5;124m'\u001b[39m]\n\u001b[0;32m     10\u001b[0m }\n\u001b[0;32m     12\u001b[0m \u001b[38;5;66;03m# `lines` produced earlier\u001b[39;00m\n\u001b[1;32m---> 13\u001b[0m choices \u001b[38;5;241m=\u001b[39m [ln[\u001b[38;5;124m'\u001b[39m\u001b[38;5;124mtext\u001b[39m\u001b[38;5;124m'\u001b[39m] \u001b[38;5;28;01mfor\u001b[39;00m ln \u001b[38;5;129;01min\u001b[39;00m lines]\n\u001b[0;32m     15\u001b[0m \u001b[38;5;28;01mdef\u001b[39;00m\u001b[38;5;250m \u001b[39m\u001b[38;5;21mfuzzy_find_label_line\u001b[39m(patterns, choices, scorer\u001b[38;5;241m=\u001b[39mfuzz\u001b[38;5;241m.\u001b[39mpartial_ratio, thresh\u001b[38;5;241m=\u001b[39m\u001b[38;5;241m65\u001b[39m):\n\u001b[0;32m     16\u001b[0m     \u001b[38;5;66;03m# Try every pattern and pick best\u001b[39;00m\n\u001b[0;32m     17\u001b[0m     best \u001b[38;5;241m=\u001b[39m \u001b[38;5;28;01mNone\u001b[39;00m\n",
      "\u001b[1;31mNameError\u001b[0m: name 'lines' is not defined"
     ]
    }
   ],
   "source": [
    "from rapidfuzz import process, fuzz\n",
    "\n",
    "# Example label map (extend as needed)\n",
    "label_map = {\n",
    "    'CLAIMANT_NAME': ['Name of Claimant', 'Claimant Name', 'Name'],\n",
    "    'FATHER_NAME': ['Name of Father', 'Name of Father/Spouse', 'Father Name'],\n",
    "    'VILLAGE': ['Village', 'Village Name'],\n",
    "    'DISTRICT': ['District'],\n",
    "    'CLAIM_ID': ['Claim ID', 'Claim No', 'Claim Number']\n",
    "}\n",
    "\n",
    "# `lines` produced earlier\n",
    "choices = [ln['text'] for ln in lines]\n",
    "\n",
    "def fuzzy_find_label_line(patterns, choices, scorer=fuzz.partial_ratio, thresh=65):\n",
    "    # Try every pattern and pick best\n",
    "    best = None\n",
    "    for p in patterns:\n",
    "        res = process.extractOne(p, choices, scorer=scorer)\n",
    "        if res and res[1] >= thresh:\n",
    "            if not best or res[1] > best[1]:\n",
    "                best = res\n",
    "    return best  # (matched_text, score, idx)\n",
    "\n",
    "# adjacency: find text to right on same line\n",
    "def get_text_right(line):\n",
    "    # naive: split by ':' and take right side\n",
    "    if ':' in line['text']:\n",
    "        return line['text'].split(':', 1)[1].strip()\n",
    "    # else try to find words to the right by bbox\n",
    "    return None\n",
    "\n",
    "extracted = {}\n",
    "for label_key, patterns in label_map.items():\n",
    "    best = fuzzy_find_label_line(patterns, choices)\n",
    "    if best:\n",
    "        matched, score, _ = best\n",
    "        idx = choices.index(matched)\n",
    "        # get line dict\n",
    "        line = lines[idx]\n",
    "        val = get_text_right(line)\n",
    "        if not val:\n",
    "            # fallback: look for words to right via bboxes\n",
    "            # find word in that line that matches label token start, then take subsequent words\n",
    "            val = ''\n",
    "        extracted[label_key] = val\n",
    "\n",
    "print(extracted)"
   ]
  },
  {
   "cell_type": "code",
   "execution_count": null,
   "id": "080c5599",
   "metadata": {},
   "outputs": [],
   "source": []
  }
 ],
 "metadata": {
  "kernelspec": {
   "display_name": "base",
   "language": "python",
   "name": "python3"
  },
  "language_info": {
   "codemirror_mode": {
    "name": "ipython",
    "version": 3
   },
   "file_extension": ".py",
   "mimetype": "text/x-python",
   "name": "python",
   "nbconvert_exporter": "python",
   "pygments_lexer": "ipython3",
   "version": "3.13.5"
  }
 },
 "nbformat": 4,
 "nbformat_minor": 5
}
